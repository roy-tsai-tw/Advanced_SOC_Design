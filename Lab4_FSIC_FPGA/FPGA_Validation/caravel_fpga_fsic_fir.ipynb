{
 "cells": [
  {
   "cell_type": "code",
   "execution_count": 1,
   "metadata": {},
   "outputs": [],
   "source": [
    "from __future__ import print_function\n",
    "\n",
    "import sys\n",
    "import numpy as np\n",
    "from time import time\n",
    "import matplotlib.pyplot as plt \n",
    "\n",
    "sys.path.append('/home/xilinx')\n",
    "from pynq import Overlay\n",
    "from pynq import allocate\n",
    "from pynq import MMIO\n",
    "\n",
    "ROM_SIZE = 0x2000 #8K\n",
    "\n",
    "SOC_UP = 0x0000;\n",
    "SOC_LA = 0x1000;\n",
    "PL_AA_MB = 0x2000;\n",
    "PL_AA = 0x2100;\n",
    "SOC_IS = 0x3000;\n",
    "SOC_AS = 0x4000;\n",
    "SOC_CC = 0x5000;\n",
    "PL_AS = 0x6000;\n",
    "PL_IS = 0x7000;\n",
    "PL_DMA = 0x8000;"
   ]
  },
  {
   "cell_type": "code",
   "execution_count": 2,
   "metadata": {},
   "outputs": [
    {
     "data": {
      "text/plain": [
       "'/home/xilinx/jupyter_notebooks/ASoC_Lab_S2/Lab4'"
      ]
     },
     "execution_count": 2,
     "metadata": {},
     "output_type": "execute_result"
    }
   ],
   "source": [
    "import os\n",
    "os.getcwd()"
   ]
  },
  {
   "cell_type": "code",
   "execution_count": 3,
   "metadata": {
    "scrolled": true
   },
   "outputs": [
    {
     "data": {
      "application/javascript": [
       "\n",
       "try {\n",
       "require(['notebook/js/codecell'], function(codecell) {\n",
       "  codecell.CodeCell.options_default.highlight_modes[\n",
       "      'magic_text/x-csrc'] = {'reg':[/^%%microblaze/]};\n",
       "  Jupyter.notebook.events.one('kernel_ready.Kernel', function(){\n",
       "      Jupyter.notebook.get_cells().map(function(cell){\n",
       "          if (cell.cell_type == 'code'){ cell.auto_highlight(); } }) ;\n",
       "  });\n",
       "});\n",
       "} catch (e) {};\n"
      ]
     },
     "metadata": {},
     "output_type": "display_data"
    },
    {
     "data": {
      "application/javascript": [
       "\n",
       "try {\n",
       "require(['notebook/js/codecell'], function(codecell) {\n",
       "  codecell.CodeCell.options_default.highlight_modes[\n",
       "      'magic_text/x-csrc'] = {'reg':[/^%%pybind11/]};\n",
       "  Jupyter.notebook.events.one('kernel_ready.Kernel', function(){\n",
       "      Jupyter.notebook.get_cells().map(function(cell){\n",
       "          if (cell.cell_type == 'code'){ cell.auto_highlight(); } }) ;\n",
       "  });\n",
       "});\n",
       "} catch (e) {};\n"
      ]
     },
     "metadata": {},
     "output_type": "display_data"
    }
   ],
   "source": [
    "ol = Overlay(\"/home/xilinx/jupyter_notebooks/ASoC_Lab_S2/Lab4/caravel_fpga.bit\")\n",
    "#ol.ip_dict"
   ]
  },
  {
   "cell_type": "code",
   "execution_count": 4,
   "metadata": {},
   "outputs": [],
   "source": [
    "ipOUTPIN = ol.output_pin_0\n",
    "ipPS = ol.caravel_ps_0\n",
    "# ipReadROMCODE = ol.read_romcode_0\n",
    "\n",
    "#Add for SPI\n",
    "ip_QSPI = ol.axi_quad_spi_0"
   ]
  },
  {
   "cell_type": "code",
   "execution_count": 5,
   "metadata": {},
   "outputs": [],
   "source": [
    "# ============================================\n",
    "# AXI QuadSPI Control\n",
    "# ============================================\n",
    "XSP_DGIER_OFFSET = 0x1C\n",
    "XSP_IISR_OFFSET = 0x20\n",
    "XSP_IIER_OFFSET = 0x28\n",
    "XSP_SRR_OFFSET = 0x40\n",
    "XSP_CR_OFFSET = 0x60\n",
    "XSP_SR_OFFSET = 0x64\n",
    "XSP_DTR_OFFSET = 0x68\n",
    "XSP_DRR_OFFSET = 0x6C\n",
    "XSP_SSR_OFFSET = 0x70\n",
    "XSP_TFO_OFFSET = 0x74\n",
    "XSP_RFO_OFFSET = 0x78\n",
    "XSP_REGISTERS = [0x40, 0x60, 0x64, 0x68, 0x6c, 0x70, 0x74, 0x78, 0x1c, 0x20, 0x28]\n",
    "\n",
    "XSP_SRR_RESET_MASK = 0x0A\n",
    "XSP_SR_TX_EMPTY_MASK = 0x04\n",
    "XSP_SR_TX_FULL_MASK = 0x08\n",
    "XSP_CR_TRANS_INHIBIT_MASK = 0x100\n",
    "XSP_CR_LOOPBACK_MASK = 0x01\n",
    "XSP_CR_ENABLE_MASK = 0x02\n",
    "XSP_CR_MASTER_MODE_MASK = 0x04\n",
    "XSP_CR_CLK_POLARITY_MASK = 0x08\n",
    "XSP_CR_CLK_PHASE_MASK = 0x10\n",
    "XSP_CR_TXFIFO_RESET_MASK = 0x20\n",
    "XSP_CR_RXFIFO_RESET_MASK = 0x40\n",
    "XSP_CR_MANUAL_SS_MASK = 0x80\n",
    "\n",
    "SLAVE_NO_SELECTION = 0xFFFFFFFF\n",
    "\n",
    "def cnfg(AxiQspi, clk_phase=0, clk_pol=0):\n",
    "    print(\"Configure device\")\n",
    "    # Reset the SPI device\n",
    "    AxiQspi.write(XSP_SRR_OFFSET, XSP_SRR_RESET_MASK)\n",
    "    # Enable the transmit empty interrupt, which we use to determine progress on the transmission. \n",
    "    AxiQspi.write(XSP_IIER_OFFSET, XSP_SR_TX_EMPTY_MASK)\n",
    "    # Disable the global IPIF interrupt\n",
    "    AxiQspi.write(XSP_DGIER_OFFSET, 0)\n",
    "    # Deselect the slave on the SPI bus\n",
    "    AxiQspi.write(XSP_SSR_OFFSET, SLAVE_NO_SELECTION)\n",
    "    # Disable the transmitter, enable Manual Slave Select Assertion, put SPI controller into master mode, and enable it\n",
    "    ControlReg = AxiQspi.read(XSP_CR_OFFSET)\n",
    "    ControlReg = ControlReg | XSP_CR_MASTER_MODE_MASK | XSP_CR_MANUAL_SS_MASK | XSP_CR_ENABLE_MASK | XSP_CR_TXFIFO_RESET_MASK | XSP_CR_RXFIFO_RESET_MASK\n",
    "    AxiQspi.write(XSP_CR_OFFSET, ControlReg)\n",
    "    ControlReg = AxiQspi.read(XSP_CR_OFFSET)\n",
    "    ControlReg = ControlReg & ~(XSP_CR_CLK_PHASE_MASK | XSP_CR_CLK_POLARITY_MASK) \n",
    "    if clk_phase == 1:\n",
    "        ControlReg = ControlReg | XSP_CR_CLK_PHASE_MASK\n",
    "    if clk_pol == 1:\n",
    "        ControlReg = ControlReg | XSP_CR_CLK_POLARITY_MASK\n",
    "    AxiQspi.write(XSP_CR_OFFSET, ControlReg)\n",
    "\n",
    "    return 0\n",
    "\n",
    "def write_tx_fifo(AxiQspi):\n",
    "    #print(\"TransferData\")\n",
    "    ControlReg = AxiQspi.read(XSP_CR_OFFSET)\n",
    "    ControlReg = ControlReg & ~XSP_CR_TRANS_INHIBIT_MASK\n",
    "    AxiQspi.write(XSP_CR_OFFSET, ControlReg)\n",
    "\n",
    "    StatusReg = AxiQspi.read(XSP_SR_OFFSET)\n",
    "    while (StatusReg & XSP_SR_TX_EMPTY_MASK) == 0:\n",
    "        StatusReg = AxiQspi.read(XSP_SR_OFFSET)\n",
    "\n",
    "    #print('XSP_RFO_OFFSET  : 0x{0:08x}'.format(AxiQspi.read(XSP_RFO_OFFSET)))\n",
    "    ControlReg = AxiQspi.read(XSP_CR_OFFSET)\n",
    "    ControlReg = ControlReg | XSP_CR_TRANS_INHIBIT_MASK\n",
    "    AxiQspi.write(XSP_CR_OFFSET, ControlReg)\n",
    "\n",
    "\n",
    "def read_rx_fifo(bypass_length, AxiQspi):\n",
    "    #print(\"ReadResponse\")\n",
    "    resp = list()\n",
    "    RxFifoStatus = AxiQspi.read(XSP_SR_OFFSET) & 0x01\n",
    "    \n",
    "    # By pass the FIFO data during master issue command and address to slave device\n",
    "    command_addr_length = bypass_length\n",
    "    counter = 0    \n",
    "    \n",
    "    while RxFifoStatus == 0:\n",
    "        #temp = AxiQspi.read(XSP_RFO_OFFSET)\n",
    "        #print('XSP_RFO_OFFSET  : 0x{0:08x}'.format(temp))\n",
    "        temp = AxiQspi.read(XSP_DRR_OFFSET)\n",
    "        #print('XSP_DRR_OFFSET  : 0x{0:08x}'.format(temp))    \n",
    "\n",
    "        counter = counter + 1\n",
    "        if(counter > command_addr_length):\n",
    "            resp.append(temp)        \n",
    "        \n",
    "        RxFifoStatus = AxiQspi.read(XSP_SR_OFFSET) & 0x01\n",
    "\n",
    "    return resp"
   ]
  },
  {
   "cell_type": "code",
   "execution_count": 6,
   "metadata": {
    "scrolled": false
   },
   "outputs": [
    {
     "name": "stdout",
     "output_type": "stream",
     "text": [
      "0x10 =  0x0\n",
      "0x14 =  0x0\n",
      "0x1c =  0x0\n",
      "0x20 =  0x0\n",
      "0x34 =  0xfffffff7\n",
      "0x38 =  0x3f\n"
     ]
    }
   ],
   "source": [
    "# Check MPRJ_IO input/out/en\n",
    "# 0x10 : Data signal of ps_mprj_in\n",
    "#        bit 31~0 - ps_mprj_in[31:0] (Read/Write)\n",
    "# 0x14 : Data signal of ps_mprj_in\n",
    "#        bit 5~0 - ps_mprj_in[37:32] (Read/Write)\n",
    "#        others  - reserved\n",
    "# 0x1c : Data signal of ps_mprj_out\n",
    "#        bit 31~0 - ps_mprj_out[31:0] (Read)\n",
    "# 0x20 : Data signal of ps_mprj_out\n",
    "#        bit 5~0 - ps_mprj_out[37:32] (Read)\n",
    "#        others  - reserved\n",
    "# 0x34 : Data signal of ps_mprj_en\n",
    "#        bit 31~0 - ps_mprj_en[31:0] (Read)\n",
    "# 0x38 : Data signal of ps_mprj_en\n",
    "#        bit 5~0 - ps_mprj_en[37:32] (Read)\n",
    "#        others  - reserved\n",
    "\n",
    "print (\"0x10 = \", hex(ipPS.read(0x10)))\n",
    "print (\"0x14 = \", hex(ipPS.read(0x14)))\n",
    "print (\"0x1c = \", hex(ipPS.read(0x1c)))\n",
    "print (\"0x20 = \", hex(ipPS.read(0x20)))\n",
    "print (\"0x34 = \", hex(ipPS.read(0x34)))\n",
    "print (\"0x38 = \", hex(ipPS.read(0x38)))\n"
   ]
  },
  {
   "cell_type": "code",
   "execution_count": 7,
   "metadata": {
    "scrolled": true
   },
   "outputs": [
    {
     "name": "stdout",
     "output_type": "stream",
     "text": [
      "0\n",
      "1\n"
     ]
    }
   ],
   "source": [
    "# ============================================\n",
    "# Release Reset First before passthrough mode\n",
    "# ============================================\n",
    "# Release Caravel reset\n",
    "# 0x10 : Data signal of outpin_ctrl\n",
    "#        bit 0  - outpin_ctrl[0] (Read/Write)\n",
    "#        others - reserved\n",
    "print (ipOUTPIN.read(0x10))\n",
    "ipOUTPIN.write(0x10, 1)\n",
    "print (ipOUTPIN.read(0x10))"
   ]
  },
  {
   "cell_type": "code",
   "execution_count": 8,
   "metadata": {},
   "outputs": [],
   "source": [
    "# ============================================\n",
    "# Load firmware (fsic.hex) to memory npROM\n",
    "# ============================================\n",
    "\n",
    "# Create np with 8K/4 (4 bytes per index) size and be initiled to 0\n",
    "npROM = np.zeros(ROM_SIZE >> 2, dtype=np.uint32)\n",
    "\n",
    "npROM_index = 0\n",
    "npROM_offset = 0\n",
    "fiROM = open(\"/home/xilinx/jupyter_notebooks/ASoC_Lab_S2/Lab4/fsic.hex\", \"r+\")\n",
    "\n",
    "for line in fiROM:\n",
    "    # offset header\n",
    "    if line.startswith('@'):\n",
    "        # Ignore first char @\n",
    "        npROM_offset = int(line[1:].strip(b'\\x00'.decode()), base = 16)\n",
    "        npROM_offset = npROM_offset >> 2 # 4byte per offset\n",
    "        #print (npROM_offset)\n",
    "        npROM_index = 0\n",
    "        continue\n",
    "    #print (line)\n",
    "\n",
    "    # We suppose the data must be 32bit alignment\n",
    "    buffer = 0\n",
    "    bytecount = 0\n",
    "    for line_byte in line.strip(b'\\x00'.decode()).split():\n",
    "        buffer += int(line_byte, base = 16) << (8 * bytecount)\n",
    "        bytecount += 1\n",
    "        # Collect 4 bytes, write to npROM\n",
    "        if(bytecount == 4):\n",
    "            npROM[npROM_offset + npROM_index] = buffer\n",
    "            # Clear buffer and bytecount\n",
    "            buffer = 0\n",
    "            bytecount = 0\n",
    "            npROM_index += 1\n",
    "            #print (npROM_index)\n",
    "            continue\n",
    "    # Fill rest data if not alignment 4 bytes\n",
    "    if (bytecount != 0):\n",
    "        npROM[npROM_offset + npROM_index] = buffer\n",
    "        npROM_index += 1\n",
    "    \n",
    "fiROM.close()"
   ]
  },
  {
   "cell_type": "code",
   "execution_count": 9,
   "metadata": {},
   "outputs": [
    {
     "name": "stdout",
     "output_type": "stream",
     "text": [
      "Configure device\n",
      "XSP_TFO_OFFSET  : 0x00000004\n",
      "XSP_TFO_OFFSET  : 0x00000000\n"
     ]
    }
   ],
   "source": [
    "# ============================================\n",
    "# Enabling passthrou mode\n",
    "# ============================================\n",
    "cnfg(ip_QSPI)\n",
    "# Passthrou mode - Write command\n",
    "ip_QSPI.write(XSP_DTR_OFFSET, 0xC4) # Pass-Through (management)\n",
    "ip_QSPI.write(XSP_DTR_OFFSET, 0x02) # Command: Write data to memory\n",
    "ip_QSPI.write(XSP_DTR_OFFSET, 0x00) # Address_byte0\n",
    "ip_QSPI.write(XSP_DTR_OFFSET, 0x00) # Address_byte1\n",
    "ip_QSPI.write(XSP_DTR_OFFSET, 0x00) # Address_byte2\n",
    "\n",
    "print('XSP_TFO_OFFSET  : 0x{0:08x}'.format(ip_QSPI.read(XSP_TFO_OFFSET)))\n",
    "\n",
    "ip_QSPI.write(XSP_SSR_OFFSET, 0xFFFFFFFE)\n",
    "write_tx_fifo(ip_QSPI)\n",
    "\n",
    "print('XSP_TFO_OFFSET  : 0x{0:08x}'.format(ip_QSPI.read(XSP_TFO_OFFSET)))"
   ]
  },
  {
   "cell_type": "code",
   "execution_count": 10,
   "metadata": {},
   "outputs": [],
   "source": [
    "# ============================================\n",
    "# Writing FW into SPIROM\n",
    "# ============================================\n",
    "# Fill up Tx_FIFO (16) for each write_tx_fifo\n",
    "for index in range (ROM_SIZE >> 2):\n",
    "     # 4 bytes alignment in npROM\n",
    "    for byte_shift in range(4):\n",
    "        tmp = int((npROM[index] >> (byte_shift * 8)) & 0xFF)\n",
    "        ip_QSPI.write(XSP_DTR_OFFSET, tmp) # Write_data\n",
    "    # TX_FIFO = 16, 4 * 4 = 16\n",
    "    if((index % 3) == 3):\n",
    "        write_tx_fifo(ip_QSPI)\n",
    "        \n",
    "# If rest data is not enough 16 bytes. Tx_FIFO is not empty\n",
    "    StatusReg = ip_QSPI.read(XSP_SR_OFFSET)\n",
    "    if ((StatusReg & XSP_SR_TX_EMPTY_MASK) == 0):\n",
    "         write_tx_fifo(ip_QSPI)"
   ]
  },
  {
   "cell_type": "code",
   "execution_count": 11,
   "metadata": {},
   "outputs": [
    {
     "name": "stdout",
     "output_type": "stream",
     "text": [
      "Configure device\n"
     ]
    },
    {
     "data": {
      "text/plain": [
       "0"
      ]
     },
     "execution_count": 11,
     "metadata": {},
     "output_type": "execute_result"
    }
   ],
   "source": [
    "# ============================================\n",
    "# Read SPIROM for testing\n",
    "# ============================================\n",
    "cnfg(ip_QSPI)"
   ]
  },
  {
   "cell_type": "code",
   "execution_count": 12,
   "metadata": {},
   "outputs": [
    {
     "name": "stdout",
     "output_type": "stream",
     "text": [
      "XSP_TFO_OFFSET  : 0x0000000c\n"
     ]
    }
   ],
   "source": [
    "# Test Passthrou mode - Read command\n",
    "ip_QSPI.write(XSP_DTR_OFFSET, 0xC4) # Pass-Through (management)\n",
    "ip_QSPI.write(XSP_DTR_OFFSET, 0x03) # Command: Read data from memory\n",
    "ip_QSPI.write(XSP_DTR_OFFSET, 0x00) # Address_byte0\n",
    "ip_QSPI.write(XSP_DTR_OFFSET, 0x00) # Address_byte1\n",
    "ip_QSPI.write(XSP_DTR_OFFSET, 0x00) # Address_byte2\n",
    "# Write dummy data\n",
    "data_length = 0x8\n",
    "for index in range(data_length):\n",
    "    ip_QSPI.write(XSP_DTR_OFFSET, 0x00) # Dummy data\n",
    "\n",
    "print('XSP_TFO_OFFSET  : 0x{0:08x}'.format(ip_QSPI.read(XSP_TFO_OFFSET)))\n",
    "ip_QSPI.write(XSP_SSR_OFFSET, 0xFFFFFFFE)"
   ]
  },
  {
   "cell_type": "code",
   "execution_count": 13,
   "metadata": {},
   "outputs": [
    {
     "name": "stdout",
     "output_type": "stream",
     "text": [
      "0x6f\n",
      "0x0\n",
      "0x0\n",
      "0xb\n",
      "0x13\n",
      "0x0\n",
      "0x0\n",
      "0x0\n"
     ]
    }
   ],
   "source": [
    "# Issue SPI master cycle\n",
    "write_tx_fifo(ip_QSPI)\n",
    "\n",
    "# Read the Rx data\n",
    "rx_final = read_rx_fifo(5, ip_QSPI)\n",
    "for data in rx_final:\n",
    "    print (hex(data))"
   ]
  },
  {
   "cell_type": "code",
   "execution_count": 14,
   "metadata": {},
   "outputs": [
    {
     "name": "stdout",
     "output_type": "stream",
     "text": [
      "XSP_TFO_OFFSET  : 0x00000007\n"
     ]
    }
   ],
   "source": [
    "# Write dummy data\n",
    "data_length = 0x8\n",
    "for index in range(data_length):\n",
    "    ip_QSPI.write(XSP_DTR_OFFSET, 0x00) # Dummy data\n",
    "\n",
    "print('XSP_TFO_OFFSET  : 0x{0:08x}'.format(ip_QSPI.read(XSP_TFO_OFFSET)))"
   ]
  },
  {
   "cell_type": "code",
   "execution_count": 15,
   "metadata": {},
   "outputs": [
    {
     "name": "stdout",
     "output_type": "stream",
     "text": [
      "0x13\n",
      "0x0\n",
      "0x0\n",
      "0x0\n",
      "0x13\n",
      "0x0\n",
      "0x0\n",
      "0x0\n"
     ]
    }
   ],
   "source": [
    "# Issue SPI master cycle\n",
    "write_tx_fifo(ip_QSPI)\n",
    "\n",
    "# Read the Rx data\n",
    "rx_final = read_rx_fifo(0, ip_QSPI)\n",
    "for data in rx_final:\n",
    "    print (hex(data))"
   ]
  },
  {
   "cell_type": "code",
   "execution_count": 16,
   "metadata": {},
   "outputs": [],
   "source": [
    "# ============================================\n",
    "# Exit passthrou mode, FW will be fetched\n",
    "# ============================================\n",
    "ip_QSPI.write(XSP_SSR_OFFSET, SLAVE_NO_SELECTION)"
   ]
  },
  {
   "cell_type": "code",
   "execution_count": 17,
   "metadata": {
    "scrolled": true
   },
   "outputs": [
    {
     "name": "stdout",
     "output_type": "stream",
     "text": [
      "0x10 =  0x0\n",
      "0x14 =  0x0\n",
      "0x1c =  0x0\n",
      "0x20 =  0x0\n",
      "0x34 =  0x3ffff6\n",
      "0x38 =  0x10\n"
     ]
    }
   ],
   "source": [
    "# Check MPRJ_IO input/out/en\n",
    "# 0x10 : Data signal of ps_mprj_in\n",
    "#        bit 31~0 - ps_mprj_in[31:0] (Read/Write)\n",
    "# 0x14 : Data signal of ps_mprj_in\n",
    "#        bit 5~0 - ps_mprj_in[37:32] (Read/Write)\n",
    "#        others  - reserved\n",
    "# 0x1c : Data signal of ps_mprj_out\n",
    "#        bit 31~0 - ps_mprj_out[31:0] (Read)\n",
    "# 0x20 : Data signal of ps_mprj_out\n",
    "#        bit 5~0 - ps_mprj_out[37:32] (Read)\n",
    "#        others  - reserved\n",
    "# 0x34 : Data signal of ps_mprj_en\n",
    "#        bit 31~0 - ps_mprj_en[31:0] (Read)\n",
    "# 0x38 : Data signal of ps_mprj_en\n",
    "#        bit 5~0 - ps_mprj_en[37:32] (Read)\n",
    "#        others  - reserved\n",
    "\n",
    "print (\"0x10 = \", hex(ipPS.read(0x10)))\n",
    "print (\"0x14 = \", hex(ipPS.read(0x14)))\n",
    "print (\"0x1c = \", hex(ipPS.read(0x1c)))\n",
    "print (\"0x20 = \", hex(ipPS.read(0x20)))\n",
    "print (\"0x34 = \", hex(ipPS.read(0x34)))\n",
    "print (\"0x38 = \", hex(ipPS.read(0x38)))"
   ]
  },
  {
   "cell_type": "code",
   "execution_count": 18,
   "metadata": {},
   "outputs": [],
   "source": [
    "# ====================================================================================== #\n",
    "# ====================================================================================== #\n",
    "# PL_FSIC Side Configuration\n",
    "# ====================================================================================== #\n",
    "# ====================================================================================== #"
   ]
  },
  {
   "cell_type": "code",
   "execution_count": 19,
   "metadata": {},
   "outputs": [],
   "source": [
    "# ====================================================================================== #\n",
    "# PL side Configuration                                                                  #\n",
    "# ====================================================================================== #"
   ]
  },
  {
   "cell_type": "code",
   "execution_count": 20,
   "metadata": {},
   "outputs": [],
   "source": [
    "IP_BASE_ADDRESS = 0x60000000\n",
    "ADDRESS_RANGE = 0x9000\n",
    "mmio = MMIO(IP_BASE_ADDRESS, ADDRESS_RANGE)"
   ]
  },
  {
   "cell_type": "code",
   "execution_count": 21,
   "metadata": {},
   "outputs": [
    {
     "name": "stdout",
     "output_type": "stream",
     "text": [
      "mmio.read(ADDRESS_OFFSET):  0x0\n"
     ]
    }
   ],
   "source": [
    "# PL_IS Config\n",
    "ADDRESS_OFFSET = PL_IS #0x7000\n",
    "print(\"mmio.read(ADDRESS_OFFSET): \", hex(mmio.read(ADDRESS_OFFSET)))"
   ]
  },
  {
   "cell_type": "code",
   "execution_count": 22,
   "metadata": {},
   "outputs": [
    {
     "name": "stdout",
     "output_type": "stream",
     "text": [
      "mmio.read(ADDRESS_OFFSET):  0x1\n"
     ]
    }
   ],
   "source": [
    "mmio.write(ADDRESS_OFFSET, 0x12345671)\n",
    "print(\"mmio.read(ADDRESS_OFFSET): \", hex(mmio.read(ADDRESS_OFFSET)))"
   ]
  },
  {
   "cell_type": "code",
   "execution_count": 23,
   "metadata": {},
   "outputs": [
    {
     "name": "stdout",
     "output_type": "stream",
     "text": [
      "mmio.read(ADDRESS_OFFSET):  0x3\n"
     ]
    }
   ],
   "source": [
    "mmio.write(ADDRESS_OFFSET, 0x12345673)\n",
    "print(\"mmio.read(ADDRESS_OFFSET): \", hex(mmio.read(ADDRESS_OFFSET)))"
   ]
  },
  {
   "cell_type": "code",
   "execution_count": 24,
   "metadata": {},
   "outputs": [
    {
     "name": "stdout",
     "output_type": "stream",
     "text": [
      "mmio.read(ADDRESS_OFFSET):  0x4\n",
      "mmio.read(ADDRESS_OFFSET+0x10):  0x0\n",
      "mmio.read(ADDRESS_OFFSET+0x20):  0x0\n",
      "mmio.read(ADDRESS_OFFSET+0x28):  0x0\n",
      "mmio.read(ADDRESS_OFFSET+0x30):  0x0\n",
      "mmio.read(ADDRESS_OFFSET+0x38):  0x0\n",
      "mmio.read(ADDRESS_OFFSET+0x3C):  0x0\n"
     ]
    }
   ],
   "source": [
    "# PL_DMA Config\n",
    "ADDRESS_OFFSET = PL_DMA # 0x8000\n",
    "print(\"mmio.read(ADDRESS_OFFSET): \", hex(mmio.read(ADDRESS_OFFSET)))\n",
    "print(\"mmio.read(ADDRESS_OFFSET+0x10): \", hex(mmio.read(ADDRESS_OFFSET+0x10)))\n",
    "print(\"mmio.read(ADDRESS_OFFSET+0x20): \", hex(mmio.read(ADDRESS_OFFSET+0x20)))\n",
    "print(\"mmio.read(ADDRESS_OFFSET+0x28): \", hex(mmio.read(ADDRESS_OFFSET+0x28)))\n",
    "print(\"mmio.read(ADDRESS_OFFSET+0x30): \", hex(mmio.read(ADDRESS_OFFSET+0x30)))\n",
    "print(\"mmio.read(ADDRESS_OFFSET+0x38): \", hex(mmio.read(ADDRESS_OFFSET+0x38)))\n",
    "print(\"mmio.read(ADDRESS_OFFSET+0x3C): \", hex(mmio.read(ADDRESS_OFFSET+0x3C)))"
   ]
  },
  {
   "cell_type": "code",
   "execution_count": 25,
   "metadata": {},
   "outputs": [
    {
     "name": "stdout",
     "output_type": "stream",
     "text": [
      "mmio.read(ADDRESS_OFFSET):  0x6\n",
      "mmio.read(ADDRESS_OFFSET):  0x6\n"
     ]
    }
   ],
   "source": [
    "# PL_AS Config\n",
    "ADDRESS_OFFSET = PL_AS # 0x6000\n",
    "print(\"mmio.read(ADDRESS_OFFSET): \", hex(mmio.read(ADDRESS_OFFSET)))\n",
    "mmio.write(ADDRESS_OFFSET, 0x12345676)\n",
    "print(\"mmio.read(ADDRESS_OFFSET): \", hex(mmio.read(ADDRESS_OFFSET)))"
   ]
  },
  {
   "cell_type": "code",
   "execution_count": 26,
   "metadata": {},
   "outputs": [
    {
     "name": "stdout",
     "output_type": "stream",
     "text": [
      "mmio.read(ADDRESS_OFFSET+0x00):  0x0\n",
      "mmio.read(ADDRESS_OFFSET+0x04):  0x0\n"
     ]
    }
   ],
   "source": [
    "# PL_AA Config\n",
    "ADDRESS_OFFSET = PL_AA # 0x2100\n",
    "print(\"mmio.read(ADDRESS_OFFSET+0x00): \", hex(mmio.read(ADDRESS_OFFSET+0x00)))\n",
    "print(\"mmio.read(ADDRESS_OFFSET+0x04): \", hex(mmio.read(ADDRESS_OFFSET+0x04))) "
   ]
  },
  {
   "cell_type": "code",
   "execution_count": 27,
   "metadata": {},
   "outputs": [],
   "source": [
    "mmio.write(ADDRESS_OFFSET+0x00, 0x11111111)\n",
    "mmio.write(ADDRESS_OFFSET+0x04, 0x22222222)"
   ]
  },
  {
   "cell_type": "code",
   "execution_count": 28,
   "metadata": {},
   "outputs": [
    {
     "name": "stdout",
     "output_type": "stream",
     "text": [
      "mmio.read(ADDRESS_OFFSET):  0x0\n",
      "mmio.read(ADDRESS_OFFSET+0x04):  0x0\n",
      "mmio.read(ADDRESS_OFFSET+0x08):  0x0\n",
      "mmio.read(ADDRESS_OFFSET+0x0C):  0x0\n",
      "mmio.read(ADDRESS_OFFSET+0x10):  0x0\n",
      "mmio.read(ADDRESS_OFFSET+0x14):  0x0\n",
      "mmio.read(ADDRESS_OFFSET+0x18):  0x0\n",
      "mmio.read(ADDRESS_OFFSET+0x1C):  0x0\n"
     ]
    }
   ],
   "source": [
    "# PL_AA_MB Mailbox\n",
    "ADDRESS_OFFSET = PL_AA_MB # 0x2000\n",
    "print(\"mmio.read(ADDRESS_OFFSET): \", hex(mmio.read(ADDRESS_OFFSET)))\n",
    "print(\"mmio.read(ADDRESS_OFFSET+0x04): \", hex(mmio.read(ADDRESS_OFFSET+0x04)))\n",
    "print(\"mmio.read(ADDRESS_OFFSET+0x08): \", hex(mmio.read(ADDRESS_OFFSET+0x08)))\n",
    "print(\"mmio.read(ADDRESS_OFFSET+0x0C): \", hex(mmio.read(ADDRESS_OFFSET+0x0C)))\n",
    "print(\"mmio.read(ADDRESS_OFFSET+0x10): \", hex(mmio.read(ADDRESS_OFFSET+0x10)))\n",
    "print(\"mmio.read(ADDRESS_OFFSET+0x14): \", hex(mmio.read(ADDRESS_OFFSET+0x14)))\n",
    "print(\"mmio.read(ADDRESS_OFFSET+0x18): \", hex(mmio.read(ADDRESS_OFFSET+0x18)))\n",
    "print(\"mmio.read(ADDRESS_OFFSET+0x1C): \", hex(mmio.read(ADDRESS_OFFSET+0x1C)))"
   ]
  },
  {
   "cell_type": "code",
   "execution_count": 29,
   "metadata": {},
   "outputs": [],
   "source": [
    "mmio.write(ADDRESS_OFFSET, 0x11111112)\n",
    "mmio.write(ADDRESS_OFFSET+0x04, 0x22222223)\n",
    "mmio.write(ADDRESS_OFFSET+0x08, 0x33333334)\n",
    "mmio.write(ADDRESS_OFFSET+0x0C, 0x44444445)\n",
    "mmio.write(ADDRESS_OFFSET+0x10, 0x55555556)\n",
    "mmio.write(ADDRESS_OFFSET+0x14, 0x66666667)\n",
    "mmio.write(ADDRESS_OFFSET+0x18, 0x77777778)\n",
    "mmio.write(ADDRESS_OFFSET+0x1C, 0x88888889)"
   ]
  },
  {
   "cell_type": "code",
   "execution_count": 30,
   "metadata": {},
   "outputs": [],
   "source": [
    "# ====================================================================================== #\n",
    "# ====================================================================================== #\n",
    "# PL_Caravel Side Configuration\n",
    "# ====================================================================================== #\n",
    "# ====================================================================================== #"
   ]
  },
  {
   "cell_type": "code",
   "execution_count": 31,
   "metadata": {},
   "outputs": [
    {
     "name": "stdout",
     "output_type": "stream",
     "text": [
      "mmio.read(ADDRESS_OFFSET):  0x1\n"
     ]
    }
   ],
   "source": [
    "# Caravel-IS Config\n",
    "ADDRESS_OFFSET = SOC_IS # 0x3000\n",
    "print(\"mmio.read(ADDRESS_OFFSET): \", hex(mmio.read(ADDRESS_OFFSET)))"
   ]
  },
  {
   "cell_type": "code",
   "execution_count": 32,
   "metadata": {},
   "outputs": [],
   "source": [
    "# Caravel-IS Config\n",
    "ADDRESS_OFFSET = 0x3000\n",
    "mmio.write(ADDRESS_OFFSET, 0x00000003)"
   ]
  },
  {
   "cell_type": "code",
   "execution_count": 33,
   "metadata": {},
   "outputs": [
    {
     "name": "stdout",
     "output_type": "stream",
     "text": [
      "mmio.read(ADDRESS_OFFSET):  0x6\n"
     ]
    }
   ],
   "source": [
    "# Caravel-AS Config\n",
    "ADDRESS_OFFSET = SOC_AS # 0x4000\n",
    "print(\"mmio.read(ADDRESS_OFFSET): \", hex(mmio.read(ADDRESS_OFFSET)))"
   ]
  },
  {
   "cell_type": "code",
   "execution_count": 34,
   "metadata": {},
   "outputs": [],
   "source": [
    "# Caravel-AS Config\n",
    "ADDRESS_OFFSET = SOC_AS # 0x4000\n",
    "mmio.write(ADDRESS_OFFSET, 0x00000006)"
   ]
  },
  {
   "cell_type": "code",
   "execution_count": 35,
   "metadata": {},
   "outputs": [
    {
     "name": "stdout",
     "output_type": "stream",
     "text": [
      "mmio.read(ADDRESS_OFFSET):  0x1f\n"
     ]
    }
   ],
   "source": [
    "\n",
    "# Caravel-CC Config\n",
    "ADDRESS_OFFSET = SOC_CC # 0x5000\n",
    "print(\"mmio.read(ADDRESS_OFFSET): \", hex(mmio.read(ADDRESS_OFFSET)))\n"
   ]
  },
  {
   "cell_type": "code",
   "execution_count": 36,
   "metadata": {},
   "outputs": [
    {
     "name": "stdout",
     "output_type": "stream",
     "text": [
      "mmio.read(ADDRESS_OFFSET):  0x0\n"
     ]
    }
   ],
   "source": [
    "\n",
    "# Caravel-CC Config\n",
    "ADDRESS_OFFSET = SOC_CC # 0x5000\n",
    "mmio.write(ADDRESS_OFFSET, 0x00000000)\n",
    "print(\"mmio.read(ADDRESS_OFFSET): \", hex(mmio.read(ADDRESS_OFFSET)))\n"
   ]
  },
  {
   "cell_type": "code",
   "execution_count": 37,
   "metadata": {},
   "outputs": [
    {
     "name": "stdout",
     "output_type": "stream",
     "text": [
      "mmio.read(ADDRESS_OFFSET):  0x0\n"
     ]
    }
   ],
   "source": [
    "# Caravel-LA Config\n",
    "ADDRESS_OFFSET = SOC_LA # 0x1000\n",
    "print(\"mmio.read(ADDRESS_OFFSET): \", hex(mmio.read(ADDRESS_OFFSET)))"
   ]
  },
  {
   "cell_type": "code",
   "execution_count": 38,
   "metadata": {},
   "outputs": [
    {
     "name": "stdout",
     "output_type": "stream",
     "text": [
      "mmio.read(ADDRESS_OFFSET):  0x280\n"
     ]
    }
   ],
   "source": [
    "# Caravel-UP Config\n",
    "ADDRESS_OFFSET = SOC_UP # 0x0000\n",
    "print(\"mmio.read(ADDRESS_OFFSET): \", hex(mmio.read(ADDRESS_OFFSET+0x04)))"
   ]
  },
  {
   "cell_type": "code",
   "execution_count": 39,
   "metadata": {},
   "outputs": [],
   "source": [
    "# ====================================================================================== #\n",
    "# FIR PL_UPDMA Configuration                                                             #\n",
    "# ====================================================================================== #"
   ]
  },
  {
   "cell_type": "code",
   "execution_count": 40,
   "metadata": {},
   "outputs": [
    {
     "name": "stdout",
     "output_type": "stream",
     "text": [
      "mmio.read(ADDRESS_OFFSET):  0x1\n"
     ]
    }
   ],
   "source": [
    "# PL_IS Config\n",
    "ADDRESS_OFFSET = PL_IS #0x7000\n",
    "mmio.write(ADDRESS_OFFSET, 0x00000001)\n",
    "print(\"mmio.read(ADDRESS_OFFSET): \", hex(mmio.read(ADDRESS_OFFSET)))"
   ]
  },
  {
   "cell_type": "code",
   "execution_count": 41,
   "metadata": {},
   "outputs": [
    {
     "name": "stdout",
     "output_type": "stream",
     "text": [
      "mmio.read(ADDRESS_OFFSET):  0x3\n"
     ]
    }
   ],
   "source": [
    "# Caravel-IS Config\n",
    "ADDRESS_OFFSET = 0x3000\n",
    "mmio.write(ADDRESS_OFFSET, 0x00000003)\n",
    "print(\"mmio.read(ADDRESS_OFFSET): \", hex(mmio.read(ADDRESS_OFFSET)))"
   ]
  },
  {
   "cell_type": "code",
   "execution_count": 42,
   "metadata": {},
   "outputs": [
    {
     "name": "stdout",
     "output_type": "stream",
     "text": [
      "mem_buf.device_address:  0x16849000\n",
      "mem_buf2.device_address:  0x1684a000\n",
      "data_mem2.read(MEM_ADDRESS_OFFSET2):  0x0\n"
     ]
    }
   ],
   "source": [
    "# Allocation memory m2s\n",
    "mem_buf = allocate(shape=(64,), dtype=np.uint32)\n",
    "print(\"mem_buf.device_address: \", hex(mem_buf.device_address))\n",
    "\n",
    "MEM_BASE_ADDRESS = mem_buf.device_address\n",
    "MEM_ADDRESS_RANGE = 0x0000_0400\n",
    "data_mem = MMIO(MEM_BASE_ADDRESS, MEM_ADDRESS_RANGE)\n",
    "\n",
    "MEM_ADDRESS_OFFSET = 0x00000000\n",
    "\n",
    "# Allocation memory s2m\n",
    "mem_buf2 = allocate(shape=(64,), dtype=np.uint32)\n",
    "print(\"mem_buf2.device_address: \", hex(mem_buf2.device_address))\n",
    "\n",
    "MEM_BASE_ADDRESS2 = mem_buf2.device_address\n",
    "MEM_ADDRESS_RANGE2 = 0x0000_0400\n",
    "data_mem2 = MMIO(MEM_BASE_ADDRESS2, MEM_ADDRESS_RANGE2)\n",
    "\n",
    "MEM_ADDRESS_OFFSET2 = 0x00000000\n",
    "print(\"data_mem2.read(MEM_ADDRESS_OFFSET2): \", hex(data_mem2.read(MEM_ADDRESS_OFFSET2)))\n",
    "\n"
   ]
  },
  {
   "cell_type": "code",
   "execution_count": 43,
   "metadata": {},
   "outputs": [
    {
     "name": "stdout",
     "output_type": "stream",
     "text": [
      "Write input data to MEM...\n",
      "No. 0 , mmio.read( 0 ) =  0x0\n",
      "No. 1 , mmio.read( 4 ) =  0x1\n",
      "No. 2 , mmio.read( 8 ) =  0x2\n",
      "No. 3 , mmio.read( 12 ) =  0x3\n",
      "No. 4 , mmio.read( 16 ) =  0x4\n",
      "No. 5 , mmio.read( 20 ) =  0x5\n",
      "No. 6 , mmio.read( 24 ) =  0x6\n",
      "No. 7 , mmio.read( 28 ) =  0x7\n",
      "No. 8 , mmio.read( 32 ) =  0x8\n",
      "No. 9 , mmio.read( 36 ) =  0x9\n",
      "No. 10 , mmio.read( 40 ) =  0xa\n",
      "No. 11 , mmio.read( 44 ) =  0xb\n",
      "No. 12 , mmio.read( 48 ) =  0xc\n",
      "No. 13 , mmio.read( 52 ) =  0xd\n",
      "No. 14 , mmio.read( 56 ) =  0xe\n",
      "No. 15 , mmio.read( 60 ) =  0xf\n",
      "No. 16 , mmio.read( 64 ) =  0x10\n",
      "No. 17 , mmio.read( 68 ) =  0x11\n",
      "No. 18 , mmio.read( 72 ) =  0x12\n",
      "No. 19 , mmio.read( 76 ) =  0x13\n",
      "No. 20 , mmio.read( 80 ) =  0x14\n",
      "No. 21 , mmio.read( 84 ) =  0x15\n",
      "No. 22 , mmio.read( 88 ) =  0x16\n",
      "No. 23 , mmio.read( 92 ) =  0x17\n",
      "No. 24 , mmio.read( 96 ) =  0x18\n",
      "No. 25 , mmio.read( 100 ) =  0x19\n",
      "No. 26 , mmio.read( 104 ) =  0x1a\n",
      "No. 27 , mmio.read( 108 ) =  0x1b\n",
      "No. 28 , mmio.read( 112 ) =  0x1c\n",
      "No. 29 , mmio.read( 116 ) =  0x1d\n",
      "No. 30 , mmio.read( 120 ) =  0x1e\n",
      "No. 31 , mmio.read( 124 ) =  0x1f\n",
      "No. 32 , mmio.read( 128 ) =  0x20\n",
      "No. 33 , mmio.read( 132 ) =  0x21\n",
      "No. 34 , mmio.read( 136 ) =  0x22\n",
      "No. 35 , mmio.read( 140 ) =  0x23\n",
      "No. 36 , mmio.read( 144 ) =  0x24\n",
      "No. 37 , mmio.read( 148 ) =  0x25\n",
      "No. 38 , mmio.read( 152 ) =  0x26\n",
      "No. 39 , mmio.read( 156 ) =  0x27\n",
      "No. 40 , mmio.read( 160 ) =  0x28\n",
      "No. 41 , mmio.read( 164 ) =  0x29\n",
      "No. 42 , mmio.read( 168 ) =  0x2a\n",
      "No. 43 , mmio.read( 172 ) =  0x2b\n",
      "No. 44 , mmio.read( 176 ) =  0x2c\n",
      "No. 45 , mmio.read( 180 ) =  0x2d\n",
      "No. 46 , mmio.read( 184 ) =  0x2e\n",
      "No. 47 , mmio.read( 188 ) =  0x2f\n",
      "No. 48 , mmio.read( 192 ) =  0x30\n",
      "No. 49 , mmio.read( 196 ) =  0x31\n",
      "No. 50 , mmio.read( 200 ) =  0x32\n",
      "No. 51 , mmio.read( 204 ) =  0x33\n",
      "No. 52 , mmio.read( 208 ) =  0x34\n",
      "No. 53 , mmio.read( 212 ) =  0x35\n",
      "No. 54 , mmio.read( 216 ) =  0x36\n",
      "No. 55 , mmio.read( 220 ) =  0x37\n",
      "No. 56 , mmio.read( 224 ) =  0x38\n",
      "No. 57 , mmio.read( 228 ) =  0x39\n",
      "No. 58 , mmio.read( 232 ) =  0x3a\n",
      "No. 59 , mmio.read( 236 ) =  0x3b\n",
      "No. 60 , mmio.read( 240 ) =  0x3c\n",
      "No. 61 , mmio.read( 244 ) =  0x3d\n",
      "No. 62 , mmio.read( 248 ) =  0x3e\n",
      "No. 63 , mmio.read( 252 ) =  0x3f\n"
     ]
    }
   ],
   "source": [
    "print(\"Write input data to MEM...\")\n",
    "for idx in range(0, 64, 1):\n",
    "  data_in = idx\n",
    "  data_mem.write((MEM_ADDRESS_OFFSET+idx*4),data_in)\n",
    "  print(\"No.\", idx, \", mmio.read(\", (MEM_ADDRESS_OFFSET+idx*4), \") = \", hex(data_mem.read(MEM_ADDRESS_OFFSET+idx*4)))"
   ]
  },
  {
   "cell_type": "code",
   "execution_count": 44,
   "metadata": {},
   "outputs": [
    {
     "name": "stdout",
     "output_type": "stream",
     "text": [
      "FpgaLocal_Write: PL_UPDMA, s2m exit clear...\n",
      "mmio.read(ADDRESS_OFFSET):  0x0\n",
      "FpgaLocal_Write: PL_UPDMA, s2m disable to clear...\n",
      "mmio.read(ADDRESS_OFFSET):  0x0\n",
      "FpgaLocal_Write: PL_UPDMA, m2s exit clear...\n",
      "mmio.read(ADDRESS_OFFSET):  0x0\n",
      "FpgaLocal_Write: PL_UPDMA, m2s disable to clear...\n",
      "mmio.read(ADDRESS_OFFSET):  0x0\n",
      "FpgaLocal_Write: PL_UPDMA, s2m set buffer length....\n",
      "mmio.read(ADDRESS_OFFSET):  0x40\n",
      "FpgaLocal_Write: PL_UPDMA, s2m set buffer low...\n",
      "mmio.read(ADDRESS_OFFSET):  0x1684a000\n",
      "FpgaLocal_Write: PL_UPDMA, s2m set buffer high...\n",
      "mmio.read(ADDRESS_OFFSET):  0x0\n",
      "FpgaLocal_Write: PL_UPDMA, set image width...\n",
      "mmio.read(ADDRESS_OFFSET):  0x40\n",
      "FpgaLocal_Write: PL_UPDMA, m2s set buffer low...\n",
      "mmio.read(ADDRESS_OFFSET):  0x16849000\n",
      "FpgaLocal_Write: PL_UPDMA, m2s set buffer high...\n",
      "mmio.read(ADDRESS_OFFSET):  0x0\n",
      "FpgaLocal_Write: PL_UPDMA, m2s set buffer length...\n",
      "mmio.read(ADDRESS_OFFSET):  0x40\n"
     ]
    }
   ],
   "source": [
    "UPDMA_BASE_ADDRESS = 0x4002_0000\n",
    "UPDMA_ADDRESS_RANGE = 0x0001_0000\n",
    "updma = MMIO(UPDMA_BASE_ADDRESS, UPDMA_ADDRESS_RANGE)\n",
    "\n",
    "\n",
    "UPDMA_ADDRESS_OFFSET = 0x0000 \n",
    "#1\n",
    "print(\"FpgaLocal_Write: PL_UPDMA, s2m exit clear...\")\n",
    "updma.write((UPDMA_ADDRESS_OFFSET+0x20),0x0000_0000)\n",
    "print(\"mmio.read(ADDRESS_OFFSET): \", hex(updma.read(UPDMA_ADDRESS_OFFSET+0x20)))\n",
    "\n",
    "#2\n",
    "print(\"FpgaLocal_Write: PL_UPDMA, s2m disable to clear...\")\n",
    "updma.write((UPDMA_ADDRESS_OFFSET+0x30),0x0000_0000)\n",
    "print(\"mmio.read(ADDRESS_OFFSET): \", hex(updma.read(UPDMA_ADDRESS_OFFSET+0x30)))\n",
    "\n",
    "#3\n",
    "print(\"FpgaLocal_Write: PL_UPDMA, m2s exit clear...\")\n",
    "updma.write((UPDMA_ADDRESS_OFFSET+0x78),0x0000_0000)\n",
    "print(\"mmio.read(ADDRESS_OFFSET): \", hex(updma.read(UPDMA_ADDRESS_OFFSET+0x78)))\n",
    "\n",
    "#4\n",
    "print(\"FpgaLocal_Write: PL_UPDMA, m2s disable to clear...\")\n",
    "updma.write((UPDMA_ADDRESS_OFFSET+0x88),0x0000_0000)\n",
    "print(\"mmio.read(ADDRESS_OFFSET): \", hex(updma.read(UPDMA_ADDRESS_OFFSET+0x88)))\n",
    "'''\n",
    "#5\n",
    "print(\"FpgaLocal_Write: PL_UPDMA, s2m set buffer length....\")\n",
    "updma.write((UPDMA_ADDRESS_OFFSET+0x28),0x0000_E100)\n",
    "print(\"mmio.read(ADDRESS_OFFSET): \", hex(updma.read(UPDMA_ADDRESS_OFFSET+0x28)))\n",
    "'''\n",
    "\n",
    "#6\n",
    "print(\"FpgaLocal_Write: PL_UPDMA, s2m set buffer length....\")\n",
    "updma.write((UPDMA_ADDRESS_OFFSET+0x28),0x0000_0040)\n",
    "print(\"mmio.read(ADDRESS_OFFSET): \", hex(updma.read(UPDMA_ADDRESS_OFFSET+0x28)))\n",
    "\n",
    "#7\n",
    "print(\"FpgaLocal_Write: PL_UPDMA, s2m set buffer low...\")\n",
    "#updma.write((UPDMA_ADDRESS_OFFSET+0x38),0x4508_0000)\n",
    "updma.write((UPDMA_ADDRESS_OFFSET+0x38),mem_buf2.device_address)\n",
    "print(\"mmio.read(ADDRESS_OFFSET): \", hex(updma.read(UPDMA_ADDRESS_OFFSET+0x38)))\n",
    "\n",
    "#8\n",
    "print(\"FpgaLocal_Write: PL_UPDMA, s2m set buffer high...\")\n",
    "updma.write((UPDMA_ADDRESS_OFFSET+0x3C),0x0000_0000)\n",
    "print(\"mmio.read(ADDRESS_OFFSET): \", hex(updma.read(UPDMA_ADDRESS_OFFSET+0x3C)))\n",
    "\n",
    "#9\n",
    "print(\"FpgaLocal_Write: PL_UPDMA, set image width...\")\n",
    "updma.write((UPDMA_ADDRESS_OFFSET+0x54),0x0000_0040)\n",
    "print(\"mmio.read(ADDRESS_OFFSET): \", hex(updma.read(UPDMA_ADDRESS_OFFSET+0x54)))\n",
    "\n",
    "#10\n",
    "print(\"FpgaLocal_Write: PL_UPDMA, m2s set buffer low...\")\n",
    "updma.write((UPDMA_ADDRESS_OFFSET+0x5C),mem_buf.device_address)\n",
    "print(\"mmio.read(ADDRESS_OFFSET): \", hex(updma.read(UPDMA_ADDRESS_OFFSET+0x5C)))\n",
    "\n",
    "#11\n",
    "print(\"FpgaLocal_Write: PL_UPDMA, m2s set buffer high...\")\n",
    "updma.write((UPDMA_ADDRESS_OFFSET+0x60),0x0000_0000)\n",
    "print(\"mmio.read(ADDRESS_OFFSET): \", hex(updma.read(UPDMA_ADDRESS_OFFSET+0x60)))\n",
    "\n",
    "#12\n",
    "print(\"FpgaLocal_Write: PL_UPDMA, m2s set buffer length...\")\n",
    "updma.write((UPDMA_ADDRESS_OFFSET+0x80),0x0000_0040)\n",
    "print(\"mmio.read(ADDRESS_OFFSET): \", hex(updma.read(UPDMA_ADDRESS_OFFSET+0x80)))"
   ]
  },
  {
   "cell_type": "code",
   "execution_count": 45,
   "metadata": {},
   "outputs": [],
   "source": [
    "# ====================================================================================== #\n",
    "# FIR SOC_UP Configuration                                                             #\n",
    "# ====================================================================================== #"
   ]
  },
  {
   "cell_type": "code",
   "execution_count": 46,
   "metadata": {},
   "outputs": [
    {
     "name": "stdout",
     "output_type": "stream",
     "text": [
      "mmio.read(ADDRESS_OFFSET):  0x1\n",
      "0x60005000\n"
     ]
    }
   ],
   "source": [
    "# Caravel-CC Config\n",
    "IP_BASE_ADDRESS = 0x60000000\n",
    "ADDRESS_RANGE = 0x9000\n",
    "mmio = MMIO(IP_BASE_ADDRESS, ADDRESS_RANGE)\n",
    "ADDRESS_OFFSET = SOC_CC # 0x5000\n",
    "mmio.write(ADDRESS_OFFSET, 0x00000001)\n",
    "print(\"mmio.read(ADDRESS_OFFSET): \", hex(mmio.read(ADDRESS_OFFSET)))\n",
    "print(hex(IP_BASE_ADDRESS+ADDRESS_OFFSET))"
   ]
  },
  {
   "cell_type": "code",
   "execution_count": 47,
   "metadata": {},
   "outputs": [
    {
     "name": "stdout",
     "output_type": "stream",
     "text": [
      "Fpga2Soc_Write: SOC_UP\n",
      "====> Write data_length, data_length =  64\n",
      "mmio.read(ADDRESS_OFFSET):  0x40\n",
      "Fpga2Soc_Write: SOC_UP\n",
      "====> Write tap[ 0 ], tap[ 0 ] =  0\n",
      "mmio.read(ADDRESS_OFFSET):  0x0\n",
      "Fpga2Soc_Write: SOC_UP\n",
      "====> Write tap[ 1 ], tap[ 1 ] =  -10\n",
      "mmio.read(ADDRESS_OFFSET):  0xfffffff6\n",
      "Fpga2Soc_Write: SOC_UP\n",
      "====> Write tap[ 2 ], tap[ 2 ] =  -9\n",
      "mmio.read(ADDRESS_OFFSET):  0xfffffff7\n",
      "Fpga2Soc_Write: SOC_UP\n",
      "====> Write tap[ 3 ], tap[ 3 ] =  23\n",
      "mmio.read(ADDRESS_OFFSET):  0x17\n",
      "Fpga2Soc_Write: SOC_UP\n",
      "====> Write tap[ 4 ], tap[ 4 ] =  56\n",
      "mmio.read(ADDRESS_OFFSET):  0x38\n",
      "Fpga2Soc_Write: SOC_UP\n",
      "====> Write tap[ 5 ], tap[ 5 ] =  63\n",
      "mmio.read(ADDRESS_OFFSET):  0x3f\n",
      "Fpga2Soc_Write: SOC_UP\n",
      "====> Write tap[ 6 ], tap[ 6 ] =  56\n",
      "mmio.read(ADDRESS_OFFSET):  0x38\n",
      "Fpga2Soc_Write: SOC_UP\n",
      "====> Write tap[ 7 ], tap[ 7 ] =  23\n",
      "mmio.read(ADDRESS_OFFSET):  0x17\n",
      "Fpga2Soc_Write: SOC_UP\n",
      "====> Write tap[ 8 ], tap[ 8 ] =  -9\n",
      "mmio.read(ADDRESS_OFFSET):  0xfffffff7\n",
      "Fpga2Soc_Write: SOC_UP\n",
      "====> Write tap[ 9 ], tap[ 9 ] =  -10\n",
      "mmio.read(ADDRESS_OFFSET):  0xfffffff6\n",
      "Fpga2Soc_Write: SOC_UP\n",
      "====> Write tap[ 10 ], tap[ 10 ] =  0\n",
      "mmio.read(ADDRESS_OFFSET):  0x0\n"
     ]
    }
   ],
   "source": [
    "# Caravel-UP Config\n",
    "ADDRESS_OFFSET = SOC_UP # 0x0000\n",
    "data_length = 0x0000_0040\n",
    "#13\n",
    "print(\"Fpga2Soc_Write: SOC_UP\")\n",
    "mmio.write((ADDRESS_OFFSET+0x10),data_length)\n",
    "print(\"====> Write data_length, data_length = \", data_length)\n",
    "print(\"mmio.read(ADDRESS_OFFSET): \", hex(mmio.read(ADDRESS_OFFSET+0x10)))\n",
    "\n",
    "tap = [0x0000_0000, -0x0000_000A, -0x0000_0009, 0x0000_0017, 0x0000_0038, \n",
    "0x0000_003F, 0x0000_0038, 0x0000_0017, -0x0000_0009, -0x0000_000A, 0x0000_0000]\n",
    "\n",
    "#14 - 24\n",
    "#for x in range(len(tap)):\n",
    "for idx in range(len(tap)):\n",
    "  print(\"Fpga2Soc_Write: SOC_UP\")\n",
    "  print(\"====> Write tap[\", idx, \"], tap[\", idx, \"] = \", tap[idx])\n",
    "  mmio.write((ADDRESS_OFFSET+0x20+idx*4),tap[idx])\n",
    "  print(\"mmio.read(ADDRESS_OFFSET): \", hex(mmio.read(ADDRESS_OFFSET+0x20+idx*4)))"
   ]
  },
  {
   "cell_type": "code",
   "execution_count": 48,
   "metadata": {},
   "outputs": [
    {
     "name": "stdout",
     "output_type": "stream",
     "text": [
      "mmio.read(ADDRESS_OFFSET):  0x1\n",
      "FpgaLocal_Write: SOC_UP, set ap_start...\n",
      "0x60000000\n",
      "0\n",
      "====> Write data_length, ap_start =  1\n",
      "mmio.read(ADDRESS_OFFSET):  0x1\n"
     ]
    }
   ],
   "source": [
    "# Caravel-CC Config\n",
    "ADDRESS_OFFSET = SOC_CC # 0x5000\n",
    "mmio.write(ADDRESS_OFFSET, 0x00000001)\n",
    "print(\"mmio.read(ADDRESS_OFFSET): \", hex(mmio.read(ADDRESS_OFFSET)))\n",
    "\n",
    "#25\n",
    "print(\"FpgaLocal_Write: SOC_UP, set ap_start...\")\n",
    "ADDRESS_OFFSET = SOC_UP\n",
    "ap_start = 0x0000_0001\n",
    "print(hex(IP_BASE_ADDRESS))\n",
    "print(ADDRESS_OFFSET)\n",
    "mmio.write((ADDRESS_OFFSET),ap_start)\n",
    "print(\"====> Write data_length, ap_start = \", ap_start)\n",
    "print(\"mmio.read(ADDRESS_OFFSET): \", hex(mmio.read(ADDRESS_OFFSET)))\n",
    "\n"
   ]
  },
  {
   "cell_type": "code",
   "execution_count": 49,
   "metadata": {},
   "outputs": [
    {
     "name": "stdout",
     "output_type": "stream",
     "text": [
      "FpgaLocal_Write: PL_UPDMA, set ap_start...\n",
      "0\n",
      "updma.read(UPDMA_ADDRESS_OFFSET):  0xe\n",
      "UPDMA_ADDRESS_OFFSET =  0x40020000\n"
     ]
    }
   ],
   "source": [
    "UPDMA_BASE_ADDRESS = 0x4002_0000\n",
    "UPDMA_ADDRESS_RANGE = 0x0001_0000\n",
    "updma = MMIO(UPDMA_BASE_ADDRESS, UPDMA_ADDRESS_RANGE)\n",
    "\n",
    "\n",
    "UPDMA_ADDRESS_OFFSET = 0x0000 \n",
    "\n",
    "#26\n",
    "print(\"FpgaLocal_Write: PL_UPDMA, set ap_start...\")\n",
    "print(UPDMA_ADDRESS_OFFSET)\n",
    "updma.write((UPDMA_ADDRESS_OFFSET),0x0000_0001)\n",
    "print(\"updma.read(UPDMA_ADDRESS_OFFSET): \", hex(updma.read(UPDMA_ADDRESS_OFFSET)))\n",
    "print(\"UPDMA_ADDRESS_OFFSET = \",hex(UPDMA_BASE_ADDRESS + UPDMA_ADDRESS_OFFSET))"
   ]
  },
  {
   "cell_type": "code",
   "execution_count": 50,
   "metadata": {},
   "outputs": [
    {
     "name": "stdout",
     "output_type": "stream",
     "text": [
      "0x40020010\n",
      "updma.read(ADDRESS_OFFSET+0x10):  0x1\n"
     ]
    }
   ],
   "source": [
    "print(hex(UPDMA_BASE_ADDRESS+UPDMA_ADDRESS_OFFSET+0x10))\n",
    "\n",
    "while True:\n",
    "    if updma.read(UPDMA_ADDRESS_OFFSET+0x10) == 0x01:\n",
    "        break\n",
    "print(\"updma.read(ADDRESS_OFFSET+0x10): \", hex(updma.read(UPDMA_ADDRESS_OFFSET+0x10)))"
   ]
  },
  {
   "cell_type": "code",
   "execution_count": 51,
   "metadata": {},
   "outputs": [
    {
     "name": "stdout",
     "output_type": "stream",
     "text": [
      "Print output data from MEM...\n",
      "No. 0 , mmio.read( 0 ) =  0x0\n",
      "No. 1 , mmio.read( 4 ) =  0x0\n",
      "No. 2 , mmio.read( 8 ) =  0xfffffff6\n",
      "No. 3 , mmio.read( 12 ) =  0xffffffe3\n",
      "No. 4 , mmio.read( 16 ) =  0xffffffe7\n",
      "No. 5 , mmio.read( 20 ) =  0x23\n",
      "No. 6 , mmio.read( 24 ) =  0x9e\n",
      "No. 7 , mmio.read( 28 ) =  0x151\n",
      "No. 8 , mmio.read( 32 ) =  0x21b\n",
      "No. 9 , mmio.read( 36 ) =  0x2dc\n",
      "No. 10 , mmio.read( 40 ) =  0x393\n",
      "No. 11 , mmio.read( 44 ) =  0x44a\n",
      "No. 12 , mmio.read( 48 ) =  0x501\n",
      "No. 13 , mmio.read( 52 ) =  0x5b8\n",
      "No. 14 , mmio.read( 56 ) =  0x66f\n",
      "No. 15 , mmio.read( 60 ) =  0x726\n",
      "No. 16 , mmio.read( 64 ) =  0x7dd\n",
      "No. 17 , mmio.read( 68 ) =  0x894\n",
      "No. 18 , mmio.read( 72 ) =  0x94b\n",
      "No. 19 , mmio.read( 76 ) =  0xa02\n",
      "No. 20 , mmio.read( 80 ) =  0xab9\n",
      "No. 21 , mmio.read( 84 ) =  0xb70\n",
      "No. 22 , mmio.read( 88 ) =  0xc27\n",
      "No. 23 , mmio.read( 92 ) =  0xcde\n",
      "No. 24 , mmio.read( 96 ) =  0xd95\n",
      "No. 25 , mmio.read( 100 ) =  0xe4c\n",
      "No. 26 , mmio.read( 104 ) =  0xf03\n",
      "No. 27 , mmio.read( 108 ) =  0xfba\n",
      "No. 28 , mmio.read( 112 ) =  0x1071\n",
      "No. 29 , mmio.read( 116 ) =  0x1128\n",
      "No. 30 , mmio.read( 120 ) =  0x11df\n",
      "No. 31 , mmio.read( 124 ) =  0x1296\n",
      "No. 32 , mmio.read( 128 ) =  0x134d\n",
      "No. 33 , mmio.read( 132 ) =  0x1404\n",
      "No. 34 , mmio.read( 136 ) =  0x14bb\n",
      "No. 35 , mmio.read( 140 ) =  0x1572\n",
      "No. 36 , mmio.read( 144 ) =  0x1629\n",
      "No. 37 , mmio.read( 148 ) =  0x16e0\n",
      "No. 38 , mmio.read( 152 ) =  0x1797\n",
      "No. 39 , mmio.read( 156 ) =  0x184e\n",
      "No. 40 , mmio.read( 160 ) =  0x1905\n",
      "No. 41 , mmio.read( 164 ) =  0x19bc\n",
      "No. 42 , mmio.read( 168 ) =  0x1a73\n",
      "No. 43 , mmio.read( 172 ) =  0x1b2a\n",
      "No. 44 , mmio.read( 176 ) =  0x1be1\n",
      "No. 45 , mmio.read( 180 ) =  0x1c98\n",
      "No. 46 , mmio.read( 184 ) =  0x1d4f\n",
      "No. 47 , mmio.read( 188 ) =  0x1e06\n",
      "No. 48 , mmio.read( 192 ) =  0x1ebd\n",
      "No. 49 , mmio.read( 196 ) =  0x1f74\n",
      "No. 50 , mmio.read( 200 ) =  0x202b\n",
      "No. 51 , mmio.read( 204 ) =  0x20e2\n",
      "No. 52 , mmio.read( 208 ) =  0x2199\n",
      "No. 53 , mmio.read( 212 ) =  0x2250\n",
      "No. 54 , mmio.read( 216 ) =  0x2307\n",
      "No. 55 , mmio.read( 220 ) =  0x23be\n",
      "No. 56 , mmio.read( 224 ) =  0x2475\n",
      "No. 57 , mmio.read( 228 ) =  0x252c\n",
      "No. 58 , mmio.read( 232 ) =  0x25e3\n",
      "No. 59 , mmio.read( 236 ) =  0x269a\n",
      "No. 60 , mmio.read( 240 ) =  0x2751\n",
      "No. 61 , mmio.read( 244 ) =  0x2808\n",
      "No. 62 , mmio.read( 248 ) =  0x28bf\n",
      "No. 63 , mmio.read( 252 ) =  0x2976\n"
     ]
    }
   ],
   "source": [
    "print(\"Print output data from MEM...\")\n",
    "MEM_ADDRESS_OFFSET2 = 0x0000_0000\n",
    "for idx in range(0, 64, 1):\n",
    "  print(\"No.\", idx, \", mmio.read(\", (MEM_ADDRESS_OFFSET2+idx*4), \") = \", hex(data_mem2.read(MEM_ADDRESS_OFFSET2+idx*4)))"
   ]
  },
  {
   "cell_type": "code",
   "execution_count": 52,
   "metadata": {},
   "outputs": [],
   "source": [
    "# ====================================================================================== #\n",
    "# ====================================================================================== #\n",
    "# LADMA Verification\n",
    "# ====================================================================================== #\n",
    "# ====================================================================================== #"
   ]
  },
  {
   "cell_type": "code",
   "execution_count": 53,
   "metadata": {},
   "outputs": [
    {
     "name": "stdout",
     "output_type": "stream",
     "text": [
      "ladma_buf.device_address:  0x1684b000\n"
     ]
    }
   ],
   "source": [
    "# Allocation memory\n",
    "ladma_buf = allocate(shape=(1024,), dtype=np.uint32)\n",
    "print(\"ladma_buf.device_address: \", hex(ladma_buf.device_address))\n",
    "\n",
    "IP_BASE_ADDRESS = ladma_buf.device_address\n",
    "ADDRESS_RANGE = 0x1000\n",
    "buf_mmio = MMIO(IP_BASE_ADDRESS, ADDRESS_RANGE)\n",
    "# 0x00 : Control signals\n",
    "#        bit 0 - ap_start (R/W/COH)\n",
    "#        bit 1 - ap_done (R/COR)\n",
    "#        bit 2 - ap_idle (R)\n",
    "#        bit 3 - ap_ready (R/COR)\n",
    "# 0x10 : Buffer transfer done status register\n",
    "#        bit 0 - buffer transfer done status (R)\n",
    "# 0x20 : Buffer transfer done status clear register\n",
    "#        bit 0 - clear buffer transfer done status (R/W)\n",
    "# 0x28 : Buffer Length\n",
    "#        bit 31~0 - set buffer length (must 1024)\n",
    "# 0x30 : Triggered condition \n",
    "#        bit 23~0 - set triggered condidtion (R/W)\n",
    "#        others  - reserved\n",
    "# 0x34 : Buffer Lower base address \n",
    "#        bit 31~0 - (R/W)\n",
    "# 0x38 : Buffer High base address\n",
    "#        bit 31~0 - (R/W)\n",
    "# ladma Configuration\n",
    "ADDRESS_OFFSET = PL_DMA # 0x8000\n",
    "# exit clear operation\n",
    "mmio.write(ADDRESS_OFFSET + 0x20, 0x00000000)\n",
    "# set buffer length\n",
    "mmio.write(ADDRESS_OFFSET + 0x28, 0x00000400)\n",
    "# set trigger condition\n",
    "mmio.write(ADDRESS_OFFSET + 0x30, 0x00000000)\n",
    "# set buffer low\n",
    "mmio.write(ADDRESS_OFFSET + 0x38, ladma_buf.device_address)\n",
    "# set buffer high\n",
    "mmio.write(ADDRESS_OFFSET + 0x3C, 0x00000000)"
   ]
  },
  {
   "cell_type": "code",
   "execution_count": 54,
   "metadata": {},
   "outputs": [
    {
     "name": "stdout",
     "output_type": "stream",
     "text": [
      "mmio.read(ADDRESS_OFFSET+0x00):  0x4\n",
      "mmio.read(ADDRESS_OFFSET+0x10):  0x0\n",
      "mmio.read(ADDRESS_OFFSET+0x20):  0x0\n",
      "mmio.read(ADDRESS_OFFSET+0x28):  0x400\n",
      "mmio.read(ADDRESS_OFFSET+0x30):  0x0\n",
      "mmio.read(ADDRESS_OFFSET+0x38):  0x1684b000\n",
      "mmio.read(ADDRESS_OFFSET+0x3C):  0x0\n"
     ]
    }
   ],
   "source": [
    "ADDRESS_OFFSET = PL_DMA # 0x8000\n",
    "print(\"mmio.read(ADDRESS_OFFSET+0x00): \", hex(mmio.read(ADDRESS_OFFSET+0x00)))\n",
    "print(\"mmio.read(ADDRESS_OFFSET+0x10): \", hex(mmio.read(ADDRESS_OFFSET+0x10)))\n",
    "print(\"mmio.read(ADDRESS_OFFSET+0x20): \", hex(mmio.read(ADDRESS_OFFSET+0x20)))\n",
    "print(\"mmio.read(ADDRESS_OFFSET+0x28): \", hex(mmio.read(ADDRESS_OFFSET+0x28)))\n",
    "print(\"mmio.read(ADDRESS_OFFSET+0x30): \", hex(mmio.read(ADDRESS_OFFSET+0x30)))\n",
    "print(\"mmio.read(ADDRESS_OFFSET+0x38): \", hex(mmio.read(ADDRESS_OFFSET+0x38)))\n",
    "print(\"mmio.read(ADDRESS_OFFSET+0x3C): \", hex(mmio.read(ADDRESS_OFFSET+0x3C)))"
   ]
  },
  {
   "cell_type": "code",
   "execution_count": 55,
   "metadata": {},
   "outputs": [],
   "source": [
    "# ladma Configuration\n",
    "ADDRESS_OFFSET = PL_DMA # 0x8000\n",
    "# set ap_start\n",
    "mmio.write(ADDRESS_OFFSET + 0x00, 0x00000001)"
   ]
  },
  {
   "cell_type": "code",
   "execution_count": 56,
   "metadata": {},
   "outputs": [],
   "source": [
    "# enable la 0xFFFFFF\n",
    "ADDRESS_OFFSET = SOC_LA # 0x1000\n",
    "mmio.write(ADDRESS_OFFSET, 0x00FFFFFF)\n",
    "#print(\"mmio.read(ADDRESS_OFFSET): \", hex(mmio.read(ADDRESS_OFFSET)))\n",
    "# select target UP\n",
    "ADDRESS_OFFSET = SOC_CC # 0x5000\n",
    "mmio.write(ADDRESS_OFFSET, 0x00000003)\n",
    "#print(\"mmio.read(ADDRESS_OFFSET): \", hex(mmio.read(ADDRESS_OFFSET)))"
   ]
  },
  {
   "cell_type": "code",
   "execution_count": 57,
   "metadata": {},
   "outputs": [
    {
     "name": "stdout",
     "output_type": "stream",
     "text": [
      "mmio.read(ADDRESS_OFFSET+0x10):  0x1\n",
      "mmio.read(ADDRESS_OFFSET+0x10):  0x0\n"
     ]
    }
   ],
   "source": [
    "# ladma Configuration\n",
    "ADDRESS_OFFSET = PL_DMA # 0x8000\n",
    "while True:\n",
    "    if mmio.read(ADDRESS_OFFSET+0x10) == 0x01:\n",
    "        break\n",
    "print(\"mmio.read(ADDRESS_OFFSET+0x10): \", hex(mmio.read(ADDRESS_OFFSET+0x10)))\n",
    "\n",
    "# disable la 0x000000\n",
    "ADDRESS_OFFSET = SOC_LA # 0x1000\n",
    "mmio.write(ADDRESS_OFFSET, 0x00000000)\n",
    "# select fake UP\n",
    "ADDRESS_OFFSET = SOC_CC # 0x5000\n",
    "mmio.write(ADDRESS_OFFSET, 0x00000000) \n",
    "\n",
    "ADDRESS_OFFSET = PL_DMA # 0x8000\n",
    "# clear buffer transfer done operation\n",
    "mmio.write(ADDRESS_OFFSET + 0x20, 0x00000001)\n",
    "# set ap_start\n",
    "mmio.write(ADDRESS_OFFSET + 0x00, 0x00000001)\n",
    "while True:\n",
    "    if mmio.read(ADDRESS_OFFSET+0x10) != 0x01:\n",
    "        break\n",
    "print(\"mmio.read(ADDRESS_OFFSET+0x10): \", hex(mmio.read(ADDRESS_OFFSET+0x10)))      "
   ]
  },
  {
   "cell_type": "code",
   "execution_count": 58,
   "metadata": {},
   "outputs": [
    {
     "name": "stdout",
     "output_type": "stream",
     "text": [
      "mmio.read(ADDRESS_OFFSET+0x00):  0xe\n",
      "mmio.read(ADDRESS_OFFSET+0x10):  0x0\n",
      "mmio.read(ADDRESS_OFFSET+0x20):  0x1\n",
      "mmio.read(ADDRESS_OFFSET+0x28):  0x400\n",
      "mmio.read(ADDRESS_OFFSET+0x30):  0x0\n",
      "mmio.read(ADDRESS_OFFSET+0x38):  0x1684b000\n",
      "mmio.read(ADDRESS_OFFSET+0x3C):  0x0\n"
     ]
    }
   ],
   "source": [
    "ADDRESS_OFFSET = PL_DMA # 0x8000\n",
    "print(\"mmio.read(ADDRESS_OFFSET+0x00): \", hex(mmio.read(ADDRESS_OFFSET+0x00)))\n",
    "print(\"mmio.read(ADDRESS_OFFSET+0x10): \", hex(mmio.read(ADDRESS_OFFSET+0x10)))\n",
    "print(\"mmio.read(ADDRESS_OFFSET+0x20): \", hex(mmio.read(ADDRESS_OFFSET+0x20)))\n",
    "print(\"mmio.read(ADDRESS_OFFSET+0x28): \", hex(mmio.read(ADDRESS_OFFSET+0x28)))\n",
    "print(\"mmio.read(ADDRESS_OFFSET+0x30): \", hex(mmio.read(ADDRESS_OFFSET+0x30)))\n",
    "print(\"mmio.read(ADDRESS_OFFSET+0x38): \", hex(mmio.read(ADDRESS_OFFSET+0x38)))\n",
    "print(\"mmio.read(ADDRESS_OFFSET+0x3C): \", hex(mmio.read(ADDRESS_OFFSET+0x3C)))"
   ]
  },
  {
   "cell_type": "code",
   "execution_count": 59,
   "metadata": {},
   "outputs": [],
   "source": [
    "#dump la log to file\n",
    "file = open(\"simulate.log\", \"w\")\n",
    "for i in range(0,0xFFF,4):\n",
    "    file.write('{:08x}'.format(buf_mmio.read(i))+\"\\n\")\n",
    "file.close()"
   ]
  },
  {
   "cell_type": "code",
   "execution_count": 60,
   "metadata": {},
   "outputs": [
    {
     "name": "stdout",
     "output_type": "stream",
     "text": [
      "mmio.read(ADDRESS_OFFSET):  0x0\n",
      "mmio.read(ADDRESS_OFFSET):  0x0\n"
     ]
    }
   ],
   "source": [
    "# ladma Configuration\n",
    "ADDRESS_OFFSET = PL_DMA # 0x8000\n",
    "# exit clear operation\n",
    "mmio.write(ADDRESS_OFFSET + 0x20, 0x00000000)\n",
    "# set ap_start again\n",
    "mmio.write(ADDRESS_OFFSET + 0x00, 0x00000001)\n",
    "\n",
    "# Confirming SOC_CC & SOC_LA Reading is still work\n",
    "ADDRESS_OFFSET = SOC_CC # 0x5000\n",
    "print(\"mmio.read(ADDRESS_OFFSET): \", hex(mmio.read(ADDRESS_OFFSET)))\n",
    "print(\"mmio.read(ADDRESS_OFFSET): \", hex(mmio.read(ADDRESS_OFFSET)))"
   ]
  },
  {
   "cell_type": "code",
   "execution_count": 61,
   "metadata": {},
   "outputs": [],
   "source": [
    "# Translate simulate.log to output_new.vcd, which can be open by gtakwave\n",
    "%run read_la_data.py"
   ]
  },
  {
   "cell_type": "code",
   "execution_count": null,
   "metadata": {},
   "outputs": [],
   "source": []
  }
 ],
 "metadata": {
  "kernelspec": {
   "display_name": "Python 3 (ipykernel)",
   "language": "python",
   "name": "python3"
  },
  "language_info": {
   "codemirror_mode": {
    "name": "ipython",
    "version": 3
   },
   "file_extension": ".py",
   "mimetype": "text/x-python",
   "name": "python",
   "nbconvert_exporter": "python",
   "pygments_lexer": "ipython3",
   "version": "3.10.4"
  }
 },
 "nbformat": 4,
 "nbformat_minor": 2
}
